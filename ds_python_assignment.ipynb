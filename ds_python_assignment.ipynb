{
 "cells": [
  {
   "cell_type": "markdown",
   "metadata": {},
   "source": [
    "                            Python Assignment"
   ]
  },
  {
   "cell_type": "markdown",
   "metadata": {},
   "source": [
    "For Loop :-"
   ]
  },
  {
   "cell_type": "code",
   "execution_count": 1,
   "metadata": {},
   "outputs": [
    {
     "name": "stdout",
     "output_type": "stream",
     "text": [
      "1\n",
      "2\n",
      "3\n",
      "4\n",
      "5\n",
      "6\n",
      "7\n",
      "8\n",
      "9\n"
     ]
    }
   ],
   "source": [
    "# 1 Write a Python program to print numbers from 1 to 10 using a for loop.\n",
    "for i in range(1,10):\n",
    "    print(i)\n"
   ]
  },
  {
   "cell_type": "markdown",
   "metadata": {},
   "source": [
    "#2 Explain the difference between a for loop and a while loop in Python.\n",
    "\n",
    "FOR loop is used to iterate when the number of iterations are known. \n",
    "\n",
    "While loop rns for the given true condition, represented by While.\n",
    "    This can be used when the required iterations are unknown.  "
   ]
  },
  {
   "cell_type": "code",
   "execution_count": 2,
   "metadata": {},
   "outputs": [
    {
     "name": "stdout",
     "output_type": "stream",
     "text": [
      "4950\n"
     ]
    }
   ],
   "source": [
    "# 3. Write a Python program to calculate the sum of all numbers \n",
    "# from 1 to 100 using a for loop.\n",
    "sum=0\n",
    "for i in range(1,100):\n",
    "    sum +=i\n",
    "print(sum)\n"
   ]
  },
  {
   "cell_type": "code",
   "execution_count": 4,
   "metadata": {},
   "outputs": [
    {
     "name": "stdout",
     "output_type": "stream",
     "text": [
      "1\n",
      "2\n",
      "ram\n"
     ]
    }
   ],
   "source": [
    "# 4.How do you iterate through a list using a for loop in Python?\n",
    "l = [1,2,'ram']\n",
    "for i in l:\n",
    "    print(i)"
   ]
  },
  {
   "cell_type": "code",
   "execution_count": 5,
   "metadata": {},
   "outputs": [
    {
     "name": "stdout",
     "output_type": "stream",
     "text": [
      "120\n"
     ]
    }
   ],
   "source": [
    "# 5. Write a Python program to find the product of all elements in a \n",
    "#    list using a for loop.\n",
    "l=[1,2,3,4,5]\n",
    "prod=1\n",
    "for i in l:\n",
    "    prod *= i\n",
    "print(prod)\n"
   ]
  },
  {
   "cell_type": "code",
   "execution_count": 7,
   "metadata": {},
   "outputs": [
    {
     "name": "stdout",
     "output_type": "stream",
     "text": [
      "2\n",
      "4\n",
      "6\n",
      "8\n",
      "10\n",
      "12\n",
      "14\n",
      "16\n",
      "18\n",
      "20\n"
     ]
    }
   ],
   "source": [
    "# 6. Create a Python program that prints all even \n",
    "#    numbers from 1 to 20 using a for loop.\n",
    "\n",
    "for i in range(1,21):\n",
    "    if i%2 ==0:\n",
    "        print(i)"
   ]
  },
  {
   "cell_type": "code",
   "execution_count": 9,
   "metadata": {},
   "outputs": [
    {
     "name": "stdout",
     "output_type": "stream",
     "text": [
      "Factorial of the given number is:  120\n"
     ]
    }
   ],
   "source": [
    "# 7. Write a Python program that calculates the factorial of a \n",
    "#    number using a for loop.\n",
    "\n",
    "n = int (input (\"Enter a number: \"))\n",
    "factorial = 1\n",
    "if n >= 1:\n",
    "    for i in range (1, n+1):\n",
    "        factorial=factorial *i\n",
    "print(\"Factorial of the given number is: \", factorial)\n"
   ]
  },
  {
   "cell_type": "code",
   "execution_count": 10,
   "metadata": {},
   "outputs": [
    {
     "name": "stdout",
     "output_type": "stream",
     "text": [
      "I\n",
      "l\n",
      "i\n",
      "k\n",
      "e\n",
      "p\n",
      "w\n",
      "s\n",
      "k\n",
      "i\n",
      "l\n",
      "l\n",
      "s\n"
     ]
    }
   ],
   "source": [
    "# 8. How can you iterate through the characters of a string using a for loop in Python?\n",
    "\n",
    "string = 'Ilikepwskills'\n",
    "for i in string:\n",
    "    print(i)"
   ]
  },
  {
   "cell_type": "code",
   "execution_count": 12,
   "metadata": {},
   "outputs": [
    {
     "name": "stdout",
     "output_type": "stream",
     "text": [
      "25\n"
     ]
    }
   ],
   "source": [
    "# 9. Write a Python program to find the largest number in a list using a for loop.\n",
    "l=[1,10,25,13,8]\n",
    "largest_num=0\n",
    "for i in l :\n",
    "    if i>largest_num:\n",
    "        largest_num=i\n",
    "print(largest_num)"
   ]
  },
  {
   "cell_type": "code",
   "execution_count": 15,
   "metadata": {},
   "outputs": [
    {
     "name": "stdout",
     "output_type": "stream",
     "text": [
      "0\n",
      "1\n",
      "1\n",
      "2\n",
      "3\n",
      "5\n",
      "8\n",
      "13\n",
      "21\n",
      "34\n",
      "[0, 1, 1, 2, 3, 5, 8, 13, 21, 34]\n"
     ]
    }
   ],
   "source": [
    "# 10. Create a Python program that prints the Fibonacci sequence up to a \n",
    "#     specified limit using a for loop.\n",
    "\n",
    "fib_until= int(input('enter the number : '))\n",
    "# Without Recurrsion\n",
    "\n",
    "first = 0\n",
    "second = 1\n",
    "print(first)\n",
    "print(second)\n",
    "for x in range(1,fib_until-1):\n",
    "    third = first + second\n",
    "    print(third)\n",
    "    first,second=second,third\n",
    "\n",
    "#with Recurrsion\n",
    "def fiba(n):\n",
    "    if n <= 0:\n",
    "        return []\n",
    "    elif n == 1:\n",
    "        return [0]\n",
    "    elif n == 2:\n",
    "        return [0, 1]\n",
    "    else:\n",
    "        fib = fiba(n - 1)\n",
    "        fib.append(fib[-1] + fib[-2])\n",
    "        return fib\n",
    "\n",
    "seq = fiba(fib_until)\n",
    "print(seq)\n"
   ]
  },
  {
   "cell_type": "code",
   "execution_count": 17,
   "metadata": {},
   "outputs": [
    {
     "name": "stdout",
     "output_type": "stream",
     "text": [
      " number of vowels in the given string are 2\n"
     ]
    }
   ],
   "source": [
    "# 11. Write a Python program to count the number of vowels in a given string using a for loop.\n",
    "\n",
    "vowels = 'aeiou'\n",
    "str = 'Father'\n",
    "s = [x for x in str if x in vowels]\n",
    "print(f' number of vowels in the given string are {len(s)}')"
   ]
  },
  {
   "cell_type": "code",
   "execution_count": 21,
   "metadata": {},
   "outputs": [
    {
     "name": "stdout",
     "output_type": "stream",
     "text": [
      " 1  *  10 = 10\n",
      " 2  *  10 = 20\n",
      " 3  *  10 = 30\n",
      " 4  *  10 = 40\n",
      " 5  *  10 = 50\n",
      " 6  *  10 = 60\n",
      " 7  *  10 = 70\n",
      " 8  *  10 = 80\n",
      " 9  *  10 = 90\n",
      " 10  *  10 = 100\n"
     ]
    }
   ],
   "source": [
    "# 12. Create a Python program that generates a multiplication table \n",
    "#     for a given number using a for loop.\n",
    "num = int(input('enter the number '))\n",
    "\n",
    "for i in range(1,num+1):\n",
    "    print( f' {i}  *  {num} = {i*num}')\n"
   ]
  },
  {
   "cell_type": "code",
   "execution_count": 30,
   "metadata": {},
   "outputs": [
    {
     "name": "stdout",
     "output_type": "stream",
     "text": [
      "List before reverse :  [1, 2, 3, 4, 5]\n",
      "List after reverse  :  [5, 4, 3, 2, 1]\n",
      "reversal of the string is SLLIKSWP\n",
      "reversal of the string is SLLIKSWP\n"
     ]
    }
   ],
   "source": [
    "#13. Write a Python program to reverse a list using a for loop.\n",
    "str1  = 'PWSKILLS'\n",
    "\n",
    "original_list = [1, 2, 3, 4, 5]\n",
    "print(\"List before reverse : \",original_list)\n",
    "reversed_list = []\n",
    "for value in original_list:\n",
    "  reversed_list = [value] + reversed_list\n",
    "print(\"List after reverse  : \", reversed_list)\n",
    "\n",
    "## Using FOR loop\n",
    "rev_str = ''\n",
    "for i in str1:\n",
    "    rev_str = i + rev_str\n",
    "print(f'reversal of the string is {rev_str}')\n",
    "\n",
    "## Uisng slicing\n",
    "print(f'reversal of the string is {str1[::-1]}')\n"
   ]
  },
  {
   "cell_type": "code",
   "execution_count": 70,
   "metadata": {},
   "outputs": [
    {
     "name": "stdout",
     "output_type": "stream",
     "text": [
      "Common elements are [3, 4]\n",
      "{4, 5}\n",
      "No common elements\n"
     ]
    }
   ],
   "source": [
    "# 14. Write a Python program to find the common elements between two lists using a for loop.\n",
    "\n",
    "l1 = [1,2,3,4,5]\n",
    "l2 = [8,3,4,6]\n",
    "common =[]\n",
    "\n",
    "for a in l1:\n",
    "    for b in l2:\n",
    "        if a==b:\n",
    "            common.append(a)\n",
    "print(f'Common elements are {common}')\n",
    "\n",
    "\n",
    "## another method\n",
    "\n",
    "def common_member(a, b):\n",
    "    a_set = set(a)\n",
    "    b_set = set(b)\n",
    " \n",
    "    if (a_set & b_set):\n",
    "        print(a_set & b_set)\n",
    "    else:\n",
    "        print(\"No common elements\") \n",
    "          \n",
    "  \n",
    "a = [1, 2, 3, 4, 5]\n",
    "b = [5, 4, 7, 8, 9]\n",
    "common_member(a, b)\n",
    "  \n",
    "a = [1, 2, 3, 4, 5]\n",
    "b = [6, 7, 8, 9]\n",
    "common_member(a, b)\n"
   ]
  },
  {
   "cell_type": "code",
   "execution_count": 41,
   "metadata": {},
   "outputs": [
    {
     "name": "stdout",
     "output_type": "stream",
     "text": [
      " first Name : Ram\n",
      " last Name : kumar\n",
      " Email : test@gmail.com\n",
      "printing only keys: first Name\n",
      "printing only keys: last Name\n",
      "printing only keys: Email\n",
      "printing only values: Ram\n",
      "printing only values: kumar\n",
      "printing only values: test@gmail.com\n"
     ]
    }
   ],
   "source": [
    "# 15. Explain how to use a for loop to iterate through the keys and values \n",
    "#     of a dictionary in Python\n",
    "\n",
    "dict = {\"first Name\": \"Ram\", \"last Name\": \"kumar\",\"Email\":\"test@gmail.com\"}\n",
    "\n",
    "for key,value in dict.items():\n",
    "    print(f' {key} : {value}')\n",
    "\n",
    "for key in dict.keys():\n",
    "    print(f'printing only keys: {key}')\n",
    "\n",
    "for value in dict.values():\n",
    "    print(f'printing only values: {value}')"
   ]
  },
  {
   "cell_type": "code",
   "execution_count": 72,
   "metadata": {},
   "outputs": [
    {
     "name": "stdout",
     "output_type": "stream",
     "text": [
      "The GCD of 25 and 55 using for loop is 5\n",
      "The GCD of 25 and 55 using recurrsion is 5\n",
      "The GCD of 25 and 55 using while loop is 5\n"
     ]
    }
   ],
   "source": [
    "# 16. Write a Python program to find the GCD \n",
    "#     (Greatest Common Divisor) of two numbers using a for loop.\n",
    "\n",
    "num1 = 25\n",
    "num2 = 55\n",
    "divisor1 = []\n",
    "divisor2 = []\n",
    "## using for loop \n",
    "for i in range(1,num1+1):\n",
    "    if num1%i==0:\n",
    "        divisor1.append(i)\n",
    "for j in range(1,num2+1):\n",
    "    if num2%j==0:\n",
    "        divisor2.append(j)\n",
    "d= list(set(divisor2))\n",
    "if (set(divisor1) & set(divisor2)):\n",
    "    print(f\"The GCD of {num1} and {num2} using for loop is {max(set(divisor1) & set(divisor2))}\")\n",
    "else:\n",
    "    print(f\"No GCD exists\")\n",
    "#############################################\n",
    "## Using Recurrsion\n",
    "def gcd(a, b): \n",
    "    if b == 0: \n",
    "        return a\n",
    "    else :\n",
    "        return gcd(b, a % b)\n",
    "    \n",
    "print(f\"The GCD of {num1} and {num2} using recurrsion is {gcd(num1,num2)}\")\n",
    "#############################################\n",
    "## using while loop\n",
    "def find_gcd(a, b):\n",
    "    while b:\n",
    "        a, b = b, a % b\n",
    "    return a\n",
    "\n",
    "\n",
    "# Calculate and display the GCD\n",
    "gcd = find_gcd(num1, num2)\n",
    "print(f\"The GCD of {num1} and {num2} using while loop is {gcd}\")\n"
   ]
  },
  {
   "cell_type": "code",
   "execution_count": 78,
   "metadata": {},
   "outputs": [
    {
     "name": "stdout",
     "output_type": "stream",
     "text": [
      "given string is not a palindrome\n",
      "given string is not a palindrome\n"
     ]
    }
   ],
   "source": [
    "# 17. Create a Python program that checks if a string is a palindrome using a for loop.\n",
    "\n",
    "str = 'ramr'\n",
    "rev_str=''\n",
    "for i in str:\n",
    "    rev_str=i+rev_str\n",
    "if str==rev_str:\n",
    "    print('given string is palidnrome')\n",
    "else:\n",
    "    print('given string is not a palindrome')\n",
    "\n",
    "\n",
    "#other method \n",
    "if str==str[::-1]:\n",
    "    print('given string is palidnrome')\n",
    "else:\n",
    "    print('given string is not a palindrome')"
   ]
  },
  {
   "cell_type": "code",
   "execution_count": 81,
   "metadata": {},
   "outputs": [
    {
     "name": "stdout",
     "output_type": "stream",
     "text": [
      "list without duplicates is [1, 2, 'ram', 3, 4]\n",
      "list without duplicates is [1, 2, 3, 4, 'ram']\n"
     ]
    }
   ],
   "source": [
    "# 18. Write a Python program to remove duplicates from a list using a for loop.\n",
    "l = [1,2,'ram',2,'ram',3,4]\n",
    "new_list = []\n",
    "\n",
    "## using for loop\n",
    "for i in l:\n",
    "    if i not in new_list:\n",
    "        new_list.append(i)\n",
    "print(f'list without duplicates is {new_list}')\n",
    "\n",
    "#####################################################\n",
    "## Using Set\n",
    "print(f'list without duplicates is {list(set(l))}')"
   ]
  },
  {
   "cell_type": "code",
   "execution_count": 87,
   "metadata": {},
   "outputs": [
    {
     "name": "stdout",
     "output_type": "stream",
     "text": [
      "number of words in the sentance is 3\n",
      "number of words in the sentance is 3\n"
     ]
    }
   ],
   "source": [
    "# 19. Create a Python program that counts the number of words in a sentence using a for loop\n",
    "\n",
    "sent = 'I love PwSkills'\n",
    "words = sent.split(\" \")\n",
    "count=0\n",
    "for i in words:\n",
    "    count +=1\n",
    "print(f'number of words in the sentance is {count}')\n",
    "print(f'number of words in the sentance is {len(words)}')"
   ]
  },
  {
   "cell_type": "code",
   "execution_count": 105,
   "metadata": {},
   "outputs": [
    {
     "name": "stdout",
     "output_type": "stream",
     "text": [
      "sum of all odd numbers from 1 to 50 is 625\n"
     ]
    }
   ],
   "source": [
    "# 20. Write a Python program to find the sum of all odd numbers from 1 to 50 using a for loop.\n",
    "sum=0\n",
    "for i in range(1,51):\n",
    "    if i%2!=0:\n",
    "        sum=sum+i\n",
    "print(f'sum of all odd numbers from 1 to 50 is {sum}')\n",
    "##########################################################\n",
    "\n",
    "##       using lsit COmprension\n",
    "\n",
    "x = [x for x in range(1,51) if x%2!=0]\n",
    "\n",
    "#print(f'sum of all odd numbers from 1 to 50 using list compr is {sum(x)}')\n",
    "# DOnno why THIS IS NOT WORKING sum of a list\n"
   ]
  },
  {
   "cell_type": "code",
   "execution_count": 112,
   "metadata": {},
   "outputs": [
    {
     "name": "stdout",
     "output_type": "stream",
     "text": [
      "Leap Year\n"
     ]
    }
   ],
   "source": [
    "# 21. Write a Python program that checks if a given year is a leap year using a for loop.\n",
    "\n",
    "## using for loop. \n",
    "\n",
    "\n",
    "## using if else\n",
    "year =2000\n",
    "if year % 400==0:\n",
    "    print(\"Leap Year\")\n",
    "else:\n",
    "    print(\"Not a Leap Year\")"
   ]
  },
  {
   "cell_type": "code",
   "execution_count": 116,
   "metadata": {},
   "outputs": [
    {
     "name": "stdout",
     "output_type": "stream",
     "text": [
      "sqrt of 25 is 5.0\n",
      "sqrt of 25 is 5\n"
     ]
    }
   ],
   "source": [
    "# 22 . Create a Python program that calculates the square root of a number using a for loop.\n",
    "import math\n",
    "        \n",
    "n=25\n",
    "print(f'sqrt of {n} is {math.sqrt(n)}')\n",
    "\n",
    "## using for loop\n",
    "for i in range(1,n+1):\n",
    "    if i*i==n:\n",
    "        print(f'sqrt of {n} is {i}')"
   ]
  },
  {
   "cell_type": "code",
   "execution_count": 154,
   "metadata": {},
   "outputs": [
    {
     "name": "stdout",
     "output_type": "stream",
     "text": [
      "7 21\n",
      "The L.C.M. is 21\n",
      "The L.C.M. is 21\n"
     ]
    }
   ],
   "source": [
    "# 23. Write a Python program to find the LCM (Least Common Multiple) of two numbers using a for loop.\n",
    "num1 = 7\n",
    "num2 = 21\n",
    "if num1 > num2:\n",
    "    greater = num1\n",
    "    least = num2\n",
    "else:\n",
    "    greater = num2\n",
    "    least = num1\n",
    "\n",
    "lcm=0\n",
    "print(num1,num2)\n",
    "for i in range(greater,num1*num2+1):\n",
    "    if((i % num1 == 0) and (i % num2 == 0)):\n",
    "        lcm = i\n",
    "        break\n",
    "    \n",
    "print(\"The L.C.M. is\", lcm)\n",
    "\n",
    "## Other Method\n",
    "def compute_lcm(x, y):\n",
    "\n",
    "   if x > y:\n",
    "       greater = x\n",
    "   else:\n",
    "       greater = y\n",
    "\n",
    "   while(True):\n",
    "       if((greater % x == 0) and (greater % y == 0)):\n",
    "           lcm = greater\n",
    "           break\n",
    "       greater += 1\n",
    "\n",
    "   return lcm\n",
    "\n",
    "\n",
    "\n",
    "print(\"The L.C.M. is\", compute_lcm(num1, num2))\n"
   ]
  },
  {
   "cell_type": "markdown",
   "metadata": {},
   "source": [
    "                                If Else"
   ]
  },
  {
   "cell_type": "code",
   "execution_count": 155,
   "metadata": {},
   "outputs": [
    {
     "name": "stdout",
     "output_type": "stream",
     "text": [
      "Student Grade is :A\n"
     ]
    }
   ],
   "source": [
    "# 1. Write a Python program to check if a number is positive, negative, or zero using an if-else statement.\n",
    "\n",
    "score = 81\n",
    "grade =''\n",
    "if score >80:\n",
    "    grade='A'\n",
    "elif score>60:\n",
    "    grade='B'\n",
    "elif score>50:\n",
    "    grade='C'\n",
    "else:\n",
    "    grade='D'\n",
    "\n",
    "print(f'Student Grade is :{grade}')"
   ]
  },
  {
   "cell_type": "code",
   "execution_count": 156,
   "metadata": {},
   "outputs": [
    {
     "name": "stdout",
     "output_type": "stream",
     "text": [
      "scalene triangle\n"
     ]
    }
   ],
   "source": [
    "# 12. Create a Python program that identifies the type of a triangle \n",
    "#     (e.g., equilateral, isosceles, or scalene) based on input values using if-else.\n",
    "side1=111\n",
    "side2=112\n",
    "side3=11\n",
    "\n",
    "if side1==side2:\n",
    "    if side1==side3:\n",
    "        print('equilateral triangle')\n",
    "    else:\n",
    "        print('isosceles triangle')\n",
    "    \n",
    "else:\n",
    "    if side1!=side3:\n",
    "        if side2!=side3:\n",
    "            print('scalene triangle')\n",
    "        else:\n",
    "            print('isosceles triangle')\n",
    "    else:\n",
    "        print('isosceles triangle')"
   ]
  },
  {
   "cell_type": "code",
   "execution_count": 159,
   "metadata": {},
   "outputs": [
    {
     "name": "stdout",
     "output_type": "stream",
     "text": [
      "day of the week is : Tuesday\n"
     ]
    }
   ],
   "source": [
    "# 13. Write a Python program to determine the day of the week based on a user-provided number using if-else\n",
    "day_number = 3 #int(input(\"Enter a number from 1 to 7: \"))\n",
    "\n",
    "if day_number == 1:\n",
    "    day = \"Sunday\"\n",
    "elif day_number == 2:\n",
    "    day = \"Monday\"\n",
    "elif day_number == 3:\n",
    "    day = \"Tuesday\"\n",
    "elif day_number == 4:\n",
    "    day = \"Wednesday\"\n",
    "elif day_number == 5:\n",
    "    day = \"Thursday\"\n",
    "elif day_number == 6:\n",
    "    day = \"Friday\"\n",
    "elif day_number == 7:\n",
    "    day = \"Saturday\"\n",
    "else:\n",
    "    day = \"Invalid input\"\n",
    "print(f'day of the week is : {day}')\n"
   ]
  },
  {
   "cell_type": "code",
   "execution_count": 165,
   "metadata": {},
   "outputs": [
    {
     "name": "stdout",
     "output_type": "stream",
     "text": [
      "not a perfect sqrt\n"
     ]
    }
   ],
   "source": [
    "# 20. Write a Python program to determine if a given number is a perfect square using if-else.\n",
    "\n",
    "number = 26\n",
    "if (number ** 0.5).is_integer():\n",
    "    print(f'its a perfect sqrt. ')\n",
    "else:\n",
    "    print(f'not a perfect sqrt')\n"
   ]
  },
  {
   "cell_type": "markdown",
   "metadata": {},
   "source": [
    "# 21. Explain the purpose of the \"continue\" and \"break\" statements within if-else loops.\n",
    "The \"continue\" statement is used to skip the current iteration of a loop and proceed to the next iteration without executing the remaining code inside the loop for the current iteration.\n",
    "\n",
    "he \"break\" statement is used to exit a loop prematurely. It terminates the loop as soon as it is encountered, regardless of whether the loop's conditions have been met."
   ]
  },
  {
   "cell_type": "code",
   "execution_count": 182,
   "metadata": {},
   "outputs": [
    {
     "name": "stdout",
     "output_type": "stream",
     "text": [
      "BMI for the weight 60 and hight 153 is Overweight and the index is ≥ 25 and < 30\n"
     ]
    }
   ],
   "source": [
    "# 22. Create a Python program that calculates the BMI (Body Mass Index) of a person \n",
    "#     based on their weight and height using if-else.\n",
    "\n",
    "weight_in_kg   = 60\n",
    "hight_in_cm = 153\n",
    "bmi=''\n",
    "bmi_index=''\n",
    "if 152<hight_in_cm<155:\n",
    "    if weight_in_kg<44:\n",
    "        bmi = 'Under Weight'\n",
    "    elif 44<=weight_in_kg<=58:\n",
    "        bmi = 'Normal'\n",
    "        bmi_index = '≥ 18.5 and < 25'\n",
    "    elif 58<weight_in_kg<=69:\n",
    "        bmi='Overweight'\n",
    "        bmi_index = '≥ 25 and < 30'\n",
    "    else :\n",
    "        bmi = 'Obses'\n",
    "        bmi_index = '> 30'\n",
    "\n",
    "print(f'BMI for the weight {weight_in_kg} and hight {hight_in_cm} is {bmi} and the index is {bmi_index}')\n"
   ]
  },
  {
   "cell_type": "code",
   "execution_count": 184,
   "metadata": {},
   "outputs": [
    {
     "name": "stdout",
     "output_type": "stream",
     "text": [
      "filter of even numbers from list - [2, 4, 6, 8, 10]\n"
     ]
    }
   ],
   "source": [
    "# 23. How can you use the \"filter()\" function with if-else statements to filter elements from a list?\n",
    "l = [1,2,3,4,5,6,7,8,9,10]\n",
    "\n",
    "print(f'filter of even numbers from list - {list(filter(lambda a: a%2==0,l))}')\n"
   ]
  },
  {
   "cell_type": "markdown",
   "metadata": {},
   "source": [
    "                 MAP"
   ]
  },
  {
   "cell_type": "code",
   "execution_count": null,
   "metadata": {},
   "outputs": [],
   "source": [
    "# 1. Explain the purpose of the `map()` function in Python and provide an example of \n",
    "#    how it can be used to apply a function to each element of an iterable \n",
    "\n",
    "#The map() function in Python is used to apply a given function to each item in an iterable \n",
    "# (e.g., a list, tuple, or other iterable) and return a new iterable containing the results\n",
    "\n",
    "l=[1,3,4,354,12,8]\n",
    "def add_list(a):\n",
    "    l1=[]\n",
    "    for i in a:\n",
    "        l1.append(i+2)\n",
    "    return l1\n",
    "print(add_list(l))\n",
    "\n",
    "#using lambda\n",
    "v =lambda x : x+2\n",
    "print(v(10))\n",
    "\n",
    "#using map\n",
    "print(list(map(lambda x :x+2 , l))) \n",
    "#here it implements lambda functuion on list\n"
   ]
  },
  {
   "cell_type": "code",
   "execution_count": 185,
   "metadata": {},
   "outputs": [
    {
     "name": "stdout",
     "output_type": "stream",
     "text": [
      "[1, 9, 16, 125316, 144, 64]\n"
     ]
    }
   ],
   "source": [
    "# 2. Write a Python program that uses the `map()`\n",
    "#    function to square each element of a list of numbers.\n",
    "l=[1,3,4,354,12,8]\n",
    "print(list(map(lambda x :x*x , l))) \n",
    "#here it implements lambda functuion on list"
   ]
  },
  {
   "cell_type": "code",
   "execution_count": 186,
   "metadata": {},
   "outputs": [],
   "source": [
    "#.  The map() function and list comprehensions in Python both \n",
    "#   allow you to transform data in iterable objects.\n",
    "\n",
    "# we use map() when you want to apply a single function to each element of an iterable.\n",
    "# It's especially useful when you already have a function defined, \n",
    "# and you want to apply it to an iterable without writing a loop.\n"
   ]
  },
  {
   "cell_type": "code",
   "execution_count": 187,
   "metadata": {},
   "outputs": [
    {
     "name": "stdout",
     "output_type": "stream",
     "text": [
      "['RAM', 'SAM']\n"
     ]
    }
   ],
   "source": [
    "# 4. Create a Python program that uses the `map()` function to convert a list of \n",
    "#    names to uppercase.\n",
    "\n",
    "l=['ram','sam']\n",
    "print(list(map(lambda x :x.upper() , l))) "
   ]
  },
  {
   "cell_type": "code",
   "execution_count": 189,
   "metadata": {},
   "outputs": [
    {
     "name": "stdout",
     "output_type": "stream",
     "text": [
      "[3, 8]\n"
     ]
    }
   ],
   "source": [
    "# 5. Write a Python program that uses the `map()` function to calculate the length \n",
    "#    of each word in a list of strings.\n",
    "\n",
    "l=['ram','samkumar']\n",
    "print(list(map(lambda x :len(x) , l))) "
   ]
  },
  {
   "cell_type": "code",
   "execution_count": 190,
   "metadata": {},
   "outputs": [
    {
     "data": {
      "text/plain": [
       "['RAM', 'SAMKUMAR', 'PWSKILLS', 'INEURON']"
      ]
     },
     "execution_count": 190,
     "metadata": {},
     "output_type": "execute_result"
    }
   ],
   "source": [
    "# 6. How can you use the `map()` function to apply a custom function to elements \n",
    "#  of multiple lists simultaneously in Python?\n",
    "\n",
    "def func(n):\n",
    "    return n.upper()\n",
    "\n",
    "l1 = ['ram','samkumar']\n",
    "l2 = ['pwskills','ineuron']\n",
    "list(map(func , l1+l2))"
   ]
  },
  {
   "cell_type": "code",
   "execution_count": null,
   "metadata": {},
   "outputs": [],
   "source": [
    "# 7. Create a Python program that uses `map()` to convert a list \n",
    "#  of temperatures from Celsius to Fahrenheit."
   ]
  },
  {
   "cell_type": "code",
   "execution_count": 191,
   "metadata": {},
   "outputs": [
    {
     "data": {
      "text/plain": [
       "[10, 13, 13]"
      ]
     },
     "execution_count": 191,
     "metadata": {},
     "output_type": "execute_result"
    }
   ],
   "source": [
    "# 8 .Write a Python program that uses the `map()` function to round each element of a list of floating-point numbers to the nearest integer.\n",
    "\n",
    "l = [10.1,12.8,13.4]\n",
    "list(map(lambda a:round(a),l))"
   ]
  },
  {
   "cell_type": "markdown",
   "metadata": {},
   "source": [
    "                          REDUCE"
   ]
  },
  {
   "cell_type": "code",
   "execution_count": 192,
   "metadata": {},
   "outputs": [
    {
     "name": "stdout",
     "output_type": "stream",
     "text": [
      "multiply of list elements using reduce 960\n"
     ]
    }
   ],
   "source": [
    "# What is the `reduce()` function in Python, and what module should you import to use it? \n",
    "#  Provide an example of its basic usage.\n",
    "\n",
    "# REDUCE IS IMPORTED FROM FUNCTOOLS\n",
    "from functools import reduce\n",
    "\n",
    "# we try to reduce to single element out of entire element\n",
    "# reduce takes function and iterable obj\n",
    "\n",
    "l=[2,3,4,5,8]\n",
    "print(f'multiply of list elements using reduce {reduce(lambda a,b: a*b,l)}')"
   ]
  },
  {
   "cell_type": "code",
   "execution_count": null,
   "metadata": {},
   "outputs": [],
   "source": [
    "# 3. Write a Python program that uses the `reduce()` function to find the product \n",
    "# of all elements in a list.\n",
    "l=[2,3,4,5,8]\n",
    "print(f'multiply of list elements using reduce {reduce(lambda a,b: a*b,l)}')"
   ]
  },
  {
   "cell_type": "code",
   "execution_count": 193,
   "metadata": {},
   "outputs": [
    {
     "name": "stdout",
     "output_type": "stream",
     "text": [
      "max value from list 8\n"
     ]
    }
   ],
   "source": [
    "# 3 . Create a Python program that uses `reduce()` to find the maximum element in a list of numbers.\n",
    "l=[2,3,4,5,8]\n",
    "print(f'max value from list {reduce(lambda a,b:a if a>b else b, l)}')"
   ]
  },
  {
   "cell_type": "code",
   "execution_count": 194,
   "metadata": {},
   "outputs": [
    {
     "data": {
      "text/plain": [
       "'father mother sister'"
      ]
     },
     "execution_count": 194,
     "metadata": {},
     "output_type": "execute_result"
    }
   ],
   "source": [
    "# 4. How can you use the `reduce()` function to concatenate a list of strings into a single string?\n",
    "\n",
    "l=['father', 'mother','sister']\n",
    "reduce(lambda a,b : a+\" \"+b,l)"
   ]
  },
  {
   "cell_type": "code",
   "execution_count": 195,
   "metadata": {},
   "outputs": [
    {
     "name": "stdout",
     "output_type": "stream",
     "text": [
      "factorial using reduce 24\n"
     ]
    }
   ],
   "source": [
    "# 5. Write a Python program that calculates the factorial of a number using the `reduce()` function.\n",
    "n=4\n",
    "print(f'factorial using reduce {reduce(lambda a,b:a*b, range(1,n+1))}')\n"
   ]
  },
  {
   "cell_type": "code",
   "execution_count": 197,
   "metadata": {},
   "outputs": [
    {
     "name": "stdout",
     "output_type": "stream",
     "text": [
      "The GCD of the numbers is 10\n"
     ]
    }
   ],
   "source": [
    "# 6. Create a Python program that uses `reduce()` to find the \n",
    "#  GCD (Greatest Common Divisor) of a list of numbers.\n",
    "\n",
    "def find_gcd(numbers):\n",
    "    return reduce(math.gcd, numbers)\n",
    "\n",
    "l=[10,20]\n",
    "numbers = [int(x) for x in l]\n",
    "\n",
    "gcd_result = find_gcd(numbers)\n",
    "print(f\"The GCD of the numbers is {gcd_result}\")\n"
   ]
  },
  {
   "cell_type": "code",
   "execution_count": 205,
   "metadata": {},
   "outputs": [
    {
     "data": {
      "text/plain": [
       "24"
      ]
     },
     "execution_count": 205,
     "metadata": {},
     "output_type": "execute_result"
    }
   ],
   "source": [
    "# 7. Write a Python program that uses the `reduce()` function to find the sum of \n",
    "#    the digits of a given number.\n",
    "\n",
    "num = '789'\n",
    "reduce(lambda a,b:a+b,[int(x) for x in num])"
   ]
  },
  {
   "cell_type": "markdown",
   "metadata": {},
   "source": [
    "                            Recursion"
   ]
  },
  {
   "cell_type": "code",
   "execution_count": null,
   "metadata": {},
   "outputs": [],
   "source": [
    "# 1.Explain the concept of recursion in Python. How does it differ from iteration?\n",
    "\n",
    "# Recursion is a technique in which a function calls itself to solve a problem\n",
    "# it consists of a base case and a recursive case\n",
    "# The base case defines the condition under which the recursion should stop, \n",
    "#   preventing infinite recursion. The recursive case defines \n",
    "#   how the function calls itself with a simpler or more specific version of the problem.\n",
    "\n",
    "# Iteration is a programming technique where a loop is used to repeatedly \n",
    "#  execute a set of statements"
   ]
  },
  {
   "cell_type": "code",
   "execution_count": 207,
   "metadata": {},
   "outputs": [
    {
     "name": "stdout",
     "output_type": "stream",
     "text": [
      "The factorial of 5 is 120\n"
     ]
    }
   ],
   "source": [
    "# 2. Write a Python program to calculate the factorial of a number using recursion.\n",
    "\n",
    "def factorial(n):\n",
    "    if n == 0:\n",
    "        return 1\n",
    "    else:\n",
    "        return n * factorial(n - 1)\n",
    "\n",
    "num = 5 #int(input(\"Enter a number: \"))\n",
    "\n",
    "if num < 0:\n",
    "    print(\"Factorial is not defined for negative numbers.\")\n",
    "elif num == 0:\n",
    "    print(\"The factorial of 0 is 1\")\n",
    "else:\n",
    "    result = factorial(num)\n",
    "    print(f\"The factorial of {num} is {result}\")"
   ]
  },
  {
   "cell_type": "code",
   "execution_count": 209,
   "metadata": {},
   "outputs": [
    {
     "name": "stdout",
     "output_type": "stream",
     "text": [
      "The 10th Fibonacci number is 55\n"
     ]
    }
   ],
   "source": [
    "# 3. Create a recursive Python function to find the nth Fibonacci number.\n",
    "\n",
    "def fibonacci(n):\n",
    "    if n <= 0:\n",
    "        return 0\n",
    "    elif n == 1:\n",
    "        return 1\n",
    "    else:\n",
    "        return fibonacci(n - 1) + fibonacci(n - 2)\n",
    "\n",
    "n = 10 #int(input(\"Enter an integer: \"))\n",
    "\n",
    "if n < 0:\n",
    "    print(\"Fibonacci not possible.\")\n",
    "else:\n",
    "    result = fibonacci(n)\n",
    "    print(f\"The {n}th Fibonacci number is {result}\")\n"
   ]
  },
  {
   "cell_type": "code",
   "execution_count": 1,
   "metadata": {},
   "outputs": [
    {
     "name": "stdout",
     "output_type": "stream",
     "text": [
      "The sum of the elements in the list is: 15\n"
     ]
    }
   ],
   "source": [
    "# 4. Write a recursive Python function to calculate the sum of all elements in a list.\n",
    "\n",
    "def sum_list(lst):\n",
    "    if not lst :\n",
    "        return 0\n",
    "    else:\n",
    "        return lst[0]+sum_list(lst[1:])\n",
    "l=[1,2,3,4,5]\n",
    "sum = sum_list(l)\n",
    "print(f\"The sum of the elements in the list is: {sum}\")"
   ]
  },
  {
   "cell_type": "code",
   "execution_count": 2,
   "metadata": {},
   "outputs": [
    {
     "name": "stdout",
     "output_type": "stream",
     "text": [
      "The sum of the elements in the list is: 15\n"
     ]
    }
   ],
   "source": [
    "# 5. How can you prevent a recursive function from running indefinitely, \n",
    "#    causing a stack overflow error?\n",
    "\n",
    "# BY DEFINING A BASE CASE.  "
   ]
  },
  {
   "cell_type": "code",
   "execution_count": null,
   "metadata": {},
   "outputs": [],
   "source": [
    "# 6. Create a recursive Python function to find the greatest common divisor (GCD) \n",
    "#    of two numbers using the Euclidean algorithm.\n",
    "\n",
    "def gcd(a, b): \n",
    "    if b == 0: \n",
    "        return a\n",
    "    else :\n",
    "        return gcd(b, a % b)\n",
    "    \n",
    "gcd(100,200)"
   ]
  },
  {
   "cell_type": "code",
   "execution_count": 5,
   "metadata": {},
   "outputs": [
    {
     "name": "stdout",
     "output_type": "stream",
     "text": [
      "The reversed string is: AMAR\n"
     ]
    }
   ],
   "source": [
    "# 7.Write a recursive Python function to reverse a string\n",
    "def rev(input_string):\n",
    "    if len(input_string) == 0:\n",
    "        return input_string\n",
    "    else:\n",
    "        return rev(input_string[1:]) + input_string[0]\n",
    "\n",
    "# Example usage\n",
    "original_string = \"RAMA\"\n",
    "reversed_string = rev(original_string)\n",
    "print(f\"The reversed string is: {reversed_string}\")"
   ]
  },
  {
   "cell_type": "code",
   "execution_count": 9,
   "metadata": {},
   "outputs": [
    {
     "name": "stdout",
     "output_type": "stream",
     "text": [
      "5 to the power of 2 is 25\n"
     ]
    }
   ],
   "source": [
    "# 8. Create a recursive Python function to calculate the power of a number (x^n).\n",
    "def power(x,n):\n",
    "    if n==0:\n",
    "        return 1\n",
    "    else: \n",
    "        return x*power(x,n-1)\n",
    "b=5\n",
    "exp=2\n",
    "p = power(b,exp)\n",
    "print(f\"{b} to the power of {exp} is {p}\")"
   ]
  },
  {
   "cell_type": "code",
   "execution_count": 13,
   "metadata": {},
   "outputs": [
    {
     "name": "stdout",
     "output_type": "stream",
     "text": [
      "abc\n",
      "acb\n",
      "bac\n",
      "bca\n",
      "cab\n",
      "cba\n"
     ]
    }
   ],
   "source": [
    "# 9. Write a recursive Python function to find all permutations of a given string.\n",
    "\n",
    "def get_permutations(input_string):\n",
    "    if len(input_string) <= 1:\n",
    "        return [input_string]\n",
    "    \n",
    "    permutations = []\n",
    "\n",
    "    for i in range(len(input_string)):\n",
    "        first_char = input_string[i]\n",
    "\n",
    "        rest_of_string = input_string[:i] + input_string[i+1:]\n",
    "        sub_permutations = get_permutations(rest_of_string)\n",
    "\n",
    "        for sub_permutation in sub_permutations:\n",
    "            permutations.append(first_char + sub_permutation)\n",
    "\n",
    "    return permutations\n",
    "\n",
    "input_str = \"abc\"\n",
    "permutations = get_permutations(input_str)\n",
    "for p in permutations:\n",
    "    print(p)\n"
   ]
  },
  {
   "cell_type": "code",
   "execution_count": 16,
   "metadata": {},
   "outputs": [
    {
     "name": "stdout",
     "output_type": "stream",
     "text": [
      "'ramar' is a palindrome.\n"
     ]
    }
   ],
   "source": [
    "# 10. Write a recursive Python function to check if a string is a palindrome\n",
    "\n",
    "def check_if_palindrome(str):\n",
    "    if len(str) <= 1:\n",
    "        return True\n",
    "\n",
    "    if str[0] != str[-1]:\n",
    "        return False\n",
    "    return check_if_palindrome(str[1:-1])\n",
    "test_string = \"ramar\"\n",
    "if check_if_palindrome(test_string):\n",
    "    print(f\"'{test_string}' is a palindrome.\")\n",
    "else:\n",
    "    print(f\"'{test_string}' is not a palindrome.\")"
   ]
  },
  {
   "cell_type": "code",
   "execution_count": 22,
   "metadata": {},
   "outputs": [
    {
     "name": "stdout",
     "output_type": "stream",
     "text": [
      "[1, 2]\n",
      "[1, 3]\n",
      "[1, 4]\n",
      "[1, 5]\n",
      "[2, 3]\n",
      "[2, 4]\n",
      "[2, 5]\n",
      "[3, 4]\n",
      "[3, 5]\n",
      "[4, 5]\n"
     ]
    }
   ],
   "source": [
    "# 11. Create a recursive Python function to generate all possible combinations of a list of elements\n",
    "\n",
    "l = [1,2,3,4,5]\n",
    "\n",
    "def find_combinations(elements, k):\n",
    "    if k == 0:\n",
    "        return [[]]  \n",
    "    if not elements:\n",
    "        return []  # Return an empty list for an empty list of elements\n",
    "\n",
    "    first_element = elements[0]\n",
    "    rest_of_elements = elements[1:]\n",
    "    \n",
    "    # Generate combinations with the first element and without the first element\n",
    "    with_first = [[first_element] + combo for combo in find_combinations(rest_of_elements, k - 1)]\n",
    "    without_first = find_combinations(rest_of_elements, k)\n",
    "    return with_first + without_first\n",
    "combs = find_combinations(l,2)\n",
    "for combo in combs:\n",
    "    print(combo)"
   ]
  },
  {
   "cell_type": "code",
   "execution_count": 23,
   "metadata": {},
   "outputs": [
    {
     "name": "stdout",
     "output_type": "stream",
     "text": [
      "(5, 1)\n",
      "(3, 2)\n",
      "(1, 4)\n",
      "(4, 6)\n",
      "(2, 7)\n"
     ]
    }
   ],
   "source": [
    "# Write a Python program that uses lambda functions to sort a list of tuples based on the second element\n",
    "\n",
    "tuples_list = [(1, 4), (3, 2), (2, 7), (5, 1), (4, 6)]\n",
    "\n",
    "sorted_list = sorted(tuples_list, key=lambda x: x[1])\n",
    "\n",
    "for item in sorted_list:\n",
    "    print(item)"
   ]
  },
  {
   "cell_type": "code",
   "execution_count": 24,
   "metadata": {},
   "outputs": [
    {
     "name": "stdout",
     "output_type": "stream",
     "text": [
      "25\n",
      "14\n"
     ]
    }
   ],
   "source": [
    "# Explain the concept of higher-order functions in Python, and provide an example\n",
    "\n",
    "# Higher-order functions are functions that can accept other functions as arguments, \n",
    "#  return functions as their results, or both\n",
    "\n",
    "def apply(func, x):\n",
    "    return func(x)\n",
    "\n",
    "def square(x):\n",
    "    return x ** 2\n",
    "\n",
    "def double(x):\n",
    "    return x * 2\n",
    "\n",
    "result1 = apply(square, 5)  # Calls the square function\n",
    "result2 = apply(double, 7)  # Calls the double function\n",
    "\n",
    "print(result1)\n",
    "print(result2)"
   ]
  },
  {
   "cell_type": "code",
   "execution_count": 25,
   "metadata": {},
   "outputs": [
    {
     "name": "stdout",
     "output_type": "stream",
     "text": [
      "21\n"
     ]
    }
   ],
   "source": [
    "# Create a Python function that takes a list of numbers and a function as arguments, \n",
    "#  applying the function to each element in the list.\n",
    "\n",
    "l=[1,2,3,4,5,6]\n",
    "\n",
    "def apply(func,lst):\n",
    "    return func(lst)\n",
    "\n",
    "def sum(lst):\n",
    "    sum=0\n",
    "    for i in lst:\n",
    "        sum +=i\n",
    "    return sum\n",
    "\n",
    "s = apply(sum,l)\n",
    "print(s)\n"
   ]
  },
  {
   "cell_type": "code",
   "execution_count": null,
   "metadata": {},
   "outputs": [],
   "source": [
    "# The filter() function in Python is a built-in function used for filtering elements \n",
    "# from an iterable (e.g., a list, tuple, or string) based on a given function,\n",
    "# It returns an iterator that contains the elements \n",
    "# for which the predicate function returns True.\n",
    "\n",
    "def is_even(x):\n",
    "    return x % 2 == 0\n",
    "\n",
    "numbers = [1, 2, 3, 4, 5, 6, 7, 8]\n",
    "\n",
    "# Use filter to get a list of even numbers\n",
    "even_numbers = list(filter(is_even, numbers))\n",
    "\n",
    "print(even_numbers)"
   ]
  },
  {
   "cell_type": "code",
   "execution_count": null,
   "metadata": {},
   "outputs": [],
   "source": [
    "# Explain the purpose of docstrings in Python functions and how to write them\n",
    "\n",
    "# Docstrings in Python are used to document functions, classes, and modules, providing a way to describe their purpose, parameters, return values, and usage. The main purposes of docstrings are:\n",
    "# Documentation\n",
    "# Readability\n",
    "# Automated documentation generation\n",
    "def greet(name):\n",
    "    \"\"\"\n",
    "    This function takes a name as input and returns a personalized greeting.\n",
    "    \n",
    "    Args:\n",
    "        name (str): The name of the person you want to greet.\n",
    "\n",
    "    Returns:\n",
    "        str: A string containing a greeting for the specified name.\n",
    "    \"\"\"\n",
    "    return f\"Hello, {name}!\"\n",
    "\n",
    "greet(\"ram\")"
   ]
  }
 ],
 "metadata": {
  "kernelspec": {
   "display_name": "mycondaenv",
   "language": "python",
   "name": "python3"
  },
  "language_info": {
   "codemirror_mode": {
    "name": "ipython",
    "version": 3
   },
   "file_extension": ".py",
   "mimetype": "text/x-python",
   "name": "python",
   "nbconvert_exporter": "python",
   "pygments_lexer": "ipython3",
   "version": "3.10.12"
  },
  "orig_nbformat": 4
 },
 "nbformat": 4,
 "nbformat_minor": 2
}
